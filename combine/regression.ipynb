{
 "cells": [
  {
   "cell_type": "markdown",
   "metadata": {},
   "source": [
    "# WHEN WILL PLAYER BE PICKED?"
   ]
  },
  {
   "cell_type": "code",
   "execution_count": 1,
   "metadata": {},
   "outputs": [],
   "source": [
    "import pandas as pd\n",
    "from sklearn.model_selection import train_test_split\n",
    "from sklearn.metrics import mean_squared_error, r2_score\n",
    "from sklearn.preprocessing import StandardScaler"
   ]
  },
  {
   "cell_type": "markdown",
   "metadata": {},
   "source": [
    "#### Data\n",
    "\n",
    "2 approaches:\n",
    "1) use only players with non zero values - 1673 records\n",
    "2) use players with missing values (at most 3) that have been filled  - 2940 records"
   ]
  },
  {
   "cell_type": "code",
   "execution_count": 2,
   "metadata": {},
   "outputs": [
    {
     "data": {
      "text/plain": [
       "((1673, 11),\n",
       " (2940, 11),\n",
       " Index(['heightinchestotal', 'weight', 'fortyyd', 'twentyss', 'vertical',\n",
       "        'broad', 'bench', 'pickround', 'picktotal'],\n",
       "       dtype='object'))"
      ]
     },
     "execution_count": 2,
     "metadata": {},
     "output_type": "execute_result"
    }
   ],
   "source": [
    "test_size = 0.2\n",
    "df_drop = pd.read_csv('../data/combine_drop.csv', index_col=0)\n",
    "df_drop_train, df_drop_test = train_test_split(df_drop, test_size=test_size)\n",
    "\n",
    "df_fill = pd.read_csv('../data/combine_fill.csv', index_col=0)\n",
    "df_fill_train, df_fill_test = train_test_split(df_fill, test_size=test_size)\n",
    "\n",
    "numeric_cols = df_drop.select_dtypes(include=['int64', 'float64']).columns\n",
    "target_cols = df_drop.columns[-2:]\n",
    "df_drop.shape, df_fill.shape, numeric_cols"
   ]
  },
  {
   "cell_type": "code",
   "execution_count": null,
   "metadata": {},
   "outputs": [],
   "source": [
    "def train(model, X, y):\n",
    "    reg = model.fit(X, y)\n",
    "    pred_train = reg.predict(X)\n",
    "    mse_train = mean_squared_error(y, pred_train, squared=False)\n",
    "    r2_train = r2_score(y, pred_train)\n",
    "    return reg, {'rmse': mse_train, 'r2': r2_train}\n",
    "\n",
    "def predict(reg, X, y):\n",
    "    pred_test = reg.predict(X)\n",
    "    mse_test = mean_squared_error(y, pred_test, squared=False)\n",
    "    r2_test = r2_score(y, pred_test)\n",
    "    return {'rmse': mse_test, 'r2': r2_test}\n",
    "\n",
    "def standarize(X_train, X_test):\n",
    "    scaler = StandardScaler()\n",
    "    X_train = scaler.fit_transform(X_train)\n",
    "    X_test = scaler.transform(X_test)\n",
    "    return X_train, X_test"
   ]
  },
  {
   "cell_type": "markdown",
   "metadata": {},
   "source": [
    "#### DUMMY - Baseline"
   ]
  },
  {
   "cell_type": "code",
   "execution_count": 3,
   "metadata": {},
   "outputs": [],
   "source": [
    "from sklearn.dummy import DummyRegressor"
   ]
  },
  {
   "cell_type": "code",
   "execution_count": null,
   "metadata": {},
   "outputs": [],
   "source": [
    "def dummy(X_train, X_test, y_train, y_test):\n",
    "    reg = DummyRegressor(strategy='mean')\n",
    "    reg, results = train(reg, X_train, y_train)\n",
    "    results = predict(reg, X_test, y_test)\n",
    "    return reg, results"
   ]
  },
  {
   "cell_type": "markdown",
   "metadata": {},
   "source": [
    "#### LINEAR REGRESSION - Baseline"
   ]
  },
  {
   "cell_type": "code",
   "execution_count": 4,
   "metadata": {},
   "outputs": [],
   "source": [
    "from sklearn.linear_model import LinearRegression"
   ]
  },
  {
   "cell_type": "code",
   "execution_count": 5,
   "metadata": {},
   "outputs": [],
   "source": [
    "def lr(df_train, df_test, target_cols, numeric_cols, standarize=False):\n",
    "    df_train_lr = df_train[numeric_cols].drop(columns=target_cols)\n",
    "    df_test_lr = df_test[numeric_cols].drop(columns=target_cols)\n",
    "    \n",
    "    if standarize:\n",
    "        df_train_lr, df_test_lr = standarize(df_train_lr, df_test_lr)\n",
    "    \n",
    "    lr_round, results_round = train(LinearRegression(), df_train['pickround'])\n",
    "    lr_total, results_total = train(LinearRegression(), df_train_lr, df_train['picktotal'])\n",
    "    \n",
    "    test_round = predict(lr_round, df_test_lr, df_test['pickround'])\n",
    "    test_total = predict(lr_total, df_test_lr, df_test['picktotal'])\n",
    "    \n",
    "    return {'round':{\n",
    "                'train': results_round,\n",
    "                'test': test_round\n",
    "            },\n",
    "            'total':{\n",
    "                'train': results_total,\n",
    "                'test': test_total\n",
    "            }}"
   ]
  },
  {
   "cell_type": "markdown",
   "metadata": {},
   "source": [
    "###### DROP"
   ]
  },
  {
   "cell_type": "code",
   "execution_count": 6,
   "metadata": {},
   "outputs": [
    {
     "data": {
      "text/plain": [
       "{'round': {'train': {'rmse': 10.60477131231643, 'r2': 0.020379782611535502},\n",
       "  'test': {'rmse': 10.871380224169265, 'r2': -0.008527605619557566}},\n",
       " 'total': {'train': {'rmse': 66.24999714214555, 'r2': 0.10497447401831395},\n",
       "  'test': {'rmse': 64.55150127134748, 'r2': 0.08365668075586641}}}"
      ]
     },
     "execution_count": 6,
     "metadata": {},
     "output_type": "execute_result"
    }
   ],
   "source": [
    "lr(df_drop_train, df_drop_test, target_cols, numeric_cols)"
   ]
  },
  {
   "cell_type": "markdown",
   "metadata": {},
   "source": [
    "###### FILL"
   ]
  },
  {
   "cell_type": "code",
   "execution_count": 7,
   "metadata": {},
   "outputs": [
    {
     "data": {
      "text/plain": [
       "{'round': {'train': {'rmse': 10.694386436866195, 'r2': 0.009581413277553463},\n",
       "  'test': {'rmse': 10.482137358030181, 'r2': 0.012310780651190623}},\n",
       " 'total': {'train': {'rmse': 68.21063029475282, 'r2': 0.07970740566384704},\n",
       "  'test': {'rmse': 64.71020570619683, 'r2': 0.09730790534314115}}}"
      ]
     },
     "execution_count": 7,
     "metadata": {},
     "output_type": "execute_result"
    }
   ],
   "source": [
    "lr(df_fill_train, df_fill_test, target_cols, numeric_cols)"
   ]
  }
 ],
 "metadata": {
  "kernelspec": {
   "display_name": "ds-venv",
   "language": "python",
   "name": "ds-venv"
  },
  "language_info": {
   "codemirror_mode": {
    "name": "ipython",
    "version": 3
   },
   "file_extension": ".py",
   "mimetype": "text/x-python",
   "name": "python",
   "nbconvert_exporter": "python",
   "pygments_lexer": "ipython3",
   "version": "3.10.5"
  },
  "orig_nbformat": 4
 },
 "nbformat": 4,
 "nbformat_minor": 2
}
