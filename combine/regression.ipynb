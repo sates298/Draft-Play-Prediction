{
 "cells": [
  {
   "cell_type": "markdown",
   "metadata": {},
   "source": [
    "# WHEN WILL PLAYER BE PICKED?"
   ]
  },
  {
   "cell_type": "code",
   "execution_count": 17,
   "metadata": {},
   "outputs": [],
   "source": [
    "import pandas as pd\n",
    "from sklearn.model_selection import train_test_split\n",
    "from sklearn.metrics import mean_squared_error, r2_score"
   ]
  },
  {
   "cell_type": "markdown",
   "metadata": {},
   "source": [
    "#### Data\n",
    "\n",
    "2 approaches:\n",
    "1) use only players with non zero values - 1673 records\n",
    "2) use players with missing values (at most 3) that have been filled  - 2940 records"
   ]
  },
  {
   "cell_type": "code",
   "execution_count": 27,
   "metadata": {},
   "outputs": [
    {
     "data": {
      "text/plain": [
       "((1673, 11),\n",
       " (2940, 11),\n",
       " Index(['heightinchestotal', 'weight', 'fortyyd', 'twentyss', 'vertical',\n",
       "        'broad', 'bench', 'pickround', 'picktotal'],\n",
       "       dtype='object'))"
      ]
     },
     "execution_count": 27,
     "metadata": {},
     "output_type": "execute_result"
    }
   ],
   "source": [
    "test_size = 0.2\n",
    "df_drop = pd.read_csv('../data/combine_drop.csv', index_col=0)\n",
    "df_drop_train, df_drop_test = train_test_split(df_drop, test_size=test_size)\n",
    "\n",
    "df_fill = pd.read_csv('../data/combine_fill.csv', index_col=0)\n",
    "df_fill_train, df_fill_test = train_test_split(df_fill, test_size=test_size)\n",
    "\n",
    "numeric_cols = df_drop.select_dtypes(include=['int64', 'float64']).columns\n",
    "target_cols = df_drop.columns[-2:]\n",
    "df_drop.shape, df_fill.shape, numeric_cols"
   ]
  },
  {
   "cell_type": "markdown",
   "metadata": {},
   "source": [
    "#### LINEAR REGRESSION - Baseline"
   ]
  },
  {
   "cell_type": "code",
   "execution_count": 28,
   "metadata": {},
   "outputs": [],
   "source": [
    "from sklearn.linear_model import LinearRegression\n",
    "from sklearn.preprocessing import StandardScaler"
   ]
  },
  {
   "cell_type": "code",
   "execution_count": 41,
   "metadata": {},
   "outputs": [],
   "source": [
    "def lr_for_y(X, y):\n",
    "    reg = LinearRegression().fit(X, y)\n",
    "    pred_train = reg.predict(X)\n",
    "    mse_train = mean_squared_error(y, pred_train, squared=False)\n",
    "    r2_train = r2_score(y, pred_train)\n",
    "    return reg, {'rmse': mse_train, 'r2': r2_train}\n",
    "\n",
    "def predict_lr(reg, X, y):\n",
    "    pred_test = reg.predict(X)\n",
    "    mse_test = mean_squared_error(y, pred_test, squared=False)\n",
    "    r2_test = r2_score(y, pred_test)\n",
    "    return {'rmse': mse_test, 'r2': r2_test}\n",
    "\n",
    "def lr(df_train, df_test, target_cols, numeric_cols):\n",
    "    df_train_lr = df_train[numeric_cols].drop(columns=target_cols)\n",
    "    df_test_lr = df_test[numeric_cols].drop(columns=target_cols)\n",
    "    scaler = StandardScaler()\n",
    "    df_train_lr = scaler.fit_transform(df_train_lr)\n",
    "    df_test_lr = scaler.transform(df_test_lr)\n",
    "    \n",
    "    lr_round, results_round = lr_for_y(df_train_lr, df_train['pickround'])\n",
    "    lr_total, results_total = lr_for_y(df_train_lr, df_train['picktotal'])\n",
    "    \n",
    "    test_round = predict_lr(lr_round, df_test_lr, df_test['pickround'])\n",
    "    test_total = predict_lr(lr_total, df_test_lr, df_test['picktotal'])\n",
    "    \n",
    "    return {'round':{\n",
    "                'train': results_round,\n",
    "                'test': test_round\n",
    "            },\n",
    "            'total':{\n",
    "                'train': results_total,\n",
    "                'test': test_total\n",
    "            }}"
   ]
  },
  {
   "cell_type": "markdown",
   "metadata": {},
   "source": [
    "###### DROP"
   ]
  },
  {
   "cell_type": "code",
   "execution_count": 42,
   "metadata": {},
   "outputs": [
    {
     "data": {
      "text/plain": [
       "{'round': {'train': {'rmse': 10.611729535688601, 'r2': 0.016817569811364397},\n",
       "  'test': {'rmse': 10.821731492121053, 'r2': 0.009878016612537621}},\n",
       " 'total': {'train': {'rmse': 65.70362579727454, 'r2': 0.1094093536430496},\n",
       "  'test': {'rmse': 66.78652601992567, 'r2': 0.06749463590777449}}}"
      ]
     },
     "execution_count": 42,
     "metadata": {},
     "output_type": "execute_result"
    }
   ],
   "source": [
    "lr(df_drop_train, df_drop_test, target_cols, numeric_cols)"
   ]
  },
  {
   "cell_type": "markdown",
   "metadata": {},
   "source": [
    "###### FILL"
   ]
  },
  {
   "cell_type": "code",
   "execution_count": 43,
   "metadata": {},
   "outputs": [
    {
     "data": {
      "text/plain": [
       "{'round': {'train': {'rmse': 10.670499332008188, 'r2': 0.012429571013983565},\n",
       "  'test': {'rmse': 10.577499252544564, 'r2': 0.0008370425882940902}},\n",
       " 'total': {'train': {'rmse': 67.5087628713327, 'r2': 0.09061811597775371},\n",
       "  'test': {'rmse': 67.65738711274639, 'r2': 0.05113536131720364}}}"
      ]
     },
     "execution_count": 43,
     "metadata": {},
     "output_type": "execute_result"
    }
   ],
   "source": [
    "lr(df_fill_train, df_fill_test, target_cols, numeric_cols)"
   ]
  }
 ],
 "metadata": {
  "kernelspec": {
   "display_name": "ds-venv",
   "language": "python",
   "name": "ds-venv"
  },
  "language_info": {
   "codemirror_mode": {
    "name": "ipython",
    "version": 3
   },
   "file_extension": ".py",
   "mimetype": "text/x-python",
   "name": "python",
   "nbconvert_exporter": "python",
   "pygments_lexer": "ipython3",
   "version": "3.10.5"
  },
  "orig_nbformat": 4
 },
 "nbformat": 4,
 "nbformat_minor": 2
}
